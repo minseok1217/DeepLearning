{
 "cells": [
  {
   "cell_type": "code",
   "execution_count": 120,
   "metadata": {},
   "outputs": [
    {
     "name": "stdout",
     "output_type": "stream",
     "text": [
      "Help on class SmilesEnumerator in module SmilesEnumerator:\n",
      "\n",
      "class SmilesEnumerator(builtins.object)\n",
      " |  SmilesEnumerator(charset='@C)(=cOn1S2/H[N]\\\\', pad=120, leftpad=True, isomericSmiles=True, enum=True, canonical=False)\n",
      " |\n",
      " |  SMILES Enumerator, vectorizer and devectorizer\n",
      " |\n",
      " |  Methods defined here:\n",
      " |\n",
      " |  __init__(self, charset='@C)(=cOn1S2/H[N]\\\\', pad=120, leftpad=True, isomericSmiles=True, enum=True, canonical=False)\n",
      " |      Initialize self.  See help(type(self)) for accurate signature.\n",
      " |\n",
      " |  fit(self, smiles, extra_chars=[], extra_pad=5)\n",
      " |      Performs extraction of the charset and length of a SMILES datasets and sets self.pad and self.charset\n",
      " |\n",
      " |  randomize_smiles(self, smiles)\n",
      " |      Perform a randomization of a SMILES string\n",
      " |\n",
      " |  reverse_transform(self, vect)\n",
      " |      Performs a conversion of a vectorized SMILES to a smiles strings\n",
      " |\n",
      " |  transform(self, smiles)\n",
      " |\n",
      " |  ----------------------------------------------------------------------\n",
      " |  Data descriptors defined here:\n",
      " |\n",
      " |  __dict__\n",
      " |      dictionary for instance variables\n",
      " |\n",
      " |  __weakref__\n",
      " |      list of weak references to the object\n",
      " |\n",
      " |  charset\n",
      "\n",
      "None\n"
     ]
    }
   ],
   "source": [
    "from SmilesEnumerator import SmilesEnumerator\n",
    "sme = SmilesEnumerator()\n",
    "print(help(SmilesEnumerator))"
   ]
  },
  {
   "cell_type": "code",
   "execution_count": 121,
   "metadata": {},
   "outputs": [
    {
     "name": "stdout",
     "output_type": "stream",
     "text": [
      "c1([C@@]2(OC(=O)CC)CC[NH+](C)C[C@H]2CC=C)ccccc1\n",
      "C(O[C@]1(c2ccccc2)CC[NH+](C)C[C@H]1CC=C)(=O)CC\n",
      "C1[C@@H](CC=C)[C@](c2ccccc2)(OC(=O)CC)CC[NH+]1C\n",
      "[C@@]1(OC(=O)CC)(c2ccccc2)CC[NH+](C)C[C@H]1CC=C\n",
      "c1([C@]2(OC(=O)CC)[C@H](CC=C)C[NH+](C)CC2)ccccc1\n",
      "[NH+]1(C)C[C@@H](CC=C)[C@](c2ccccc2)(OC(=O)CC)CC1\n",
      "C=CC[C@H]1[C@@](OC(=O)CC)(c2ccccc2)CC[NH+](C)C1\n",
      "[C@H]1(CC=C)[C@@](OC(=O)CC)(c2ccccc2)CC[NH+](C)C1\n",
      "c1cccc([C@]2(OC(=O)CC)[C@H](CC=C)C[NH+](C)CC2)c1\n",
      "c1cc([C@]2(OC(CC)=O)[C@H](CC=C)C[NH+](C)CC2)ccc1\n"
     ]
    }
   ],
   "source": [
    "for i in range(10):\n",
    "    print(sme.randomize_smiles(\"CCC(=O)O[C@@]1(CC[NH+](C[C@H]1CC=C)C)c2ccccc2\"))"
   ]
  },
  {
   "cell_type": "code",
   "execution_count": 122,
   "metadata": {},
   "outputs": [
    {
     "name": "stdout",
     "output_type": "stream",
     "text": [
      "(1,)\n"
     ]
    }
   ],
   "source": [
    "import numpy as np\n",
    "smiles = np.array([\"CCC(=O)O[C@@]1(CC[NH+](C[C@H]1CC=C)C)c2ccccc2\"])\n",
    "print(smiles.shape)"
   ]
  },
  {
   "cell_type": "code",
   "execution_count": 123,
   "metadata": {},
   "outputs": [
    {
     "name": "stdout",
     "output_type": "stream",
     "text": [
      "1O@HN(c]=2[C)+\n",
      "50\n"
     ]
    }
   ],
   "source": [
    "sme.fit(smiles)\n",
    "print(sme.charset)\n",
    "print(sme.pad)"
   ]
  },
  {
   "cell_type": "code",
   "execution_count": 124,
   "metadata": {},
   "outputs": [
    {
     "data": {
      "text/plain": [
       "<matplotlib.image.AxesImage at 0x7f309070ff50>"
      ]
     },
     "execution_count": 124,
     "metadata": {},
     "output_type": "execute_result"
    },
    {
     "data": {
      "image/png": "[encoded data removed]",
      "text/plain": [
       "<Figure size 640x480 with 1 Axes>"
      ]
     },
     "metadata": {},
     "output_type": "display_data"
    }
   ],
   "source": [
    "import matplotlib.pyplot as plt\n",
    "%matplotlib inline\n",
    "vect = sme.transform(smiles)\n",
    "plt.imshow(vect[0])"
   ]
  },
  {
   "cell_type": "code",
   "execution_count": 125,
   "metadata": {},
   "outputs": [
    {
     "name": "stdout",
     "output_type": "stream",
     "text": [
      "True False\n"
     ]
    },
    {
     "data": {
      "text/plain": [
       "<matplotlib.image.AxesImage at 0x7f309075ef00>"
      ]
     },
     "execution_count": 125,
     "metadata": {},
     "output_type": "execute_result"
    },
    {
     "data": {
      "image/png": "[encoded data removed]",
      "text/plain": [
       "<Figure size 640x480 with 1 Axes>"
      ]
     },
     "metadata": {},
     "output_type": "display_data"
    }
   ],
   "source": [
    "print(sme.enumerate, sme.canonical)\n",
    "vect = sme.transform(smiles)\n",
    "plt.imshow(vect[0])"
   ]
  },
  {
   "cell_type": "code",
   "execution_count": 126,
   "metadata": {},
   "outputs": [
    {
     "name": "stdout",
     "output_type": "stream",
     "text": [
      "['[NH+]1(C)CC[C@@](c2ccccc2)(OC(=O)CC)[C@H](CC=C)C1']\n"
     ]
    }
   ],
   "source": [
    "print(sme.reverse_transform(vect))"
   ]
  },
  {
   "cell_type": "code",
   "execution_count": 127,
   "metadata": {},
   "outputs": [],
   "source": [
    "import os\n",
    "import pandas as pd\n",
    "# file_path = './data/train.csv'\n",
    "df = pd.read_csv('./data/train.csv')\n"
   ]
  },
  {
   "cell_type": "code",
   "execution_count": 128,
   "metadata": {},
   "outputs": [],
   "source": [
    "def pIC50_to_IC50(pic50_values):\n",
    "    \"\"\"Convert pIC50 values to IC50 (nM).\"\"\"\n",
    "    return 10 ** (9 - pic50_values)"
   ]
  },
  {
   "cell_type": "code",
   "execution_count": 99,
   "metadata": {},
   "outputs": [
    {
     "data": {
      "image/png": "[encoded data removed]",
      "text/plain": [
       "<Figure size 640x480 with 1 Axes>"
      ]
     },
     "metadata": {},
     "output_type": "display_data"
    }
   ],
   "source": [
    "#정규화 다시하기\n",
    "from sklearn.model_selection import train_test_split\n",
    "from sklearn.preprocessing import RobustScaler\n",
    "import matplotlib.pyplot as plt\n",
    "import numpy as np\n",
    "\n",
    "# SMILES 데이터와 IC50_nM 값을 랜덤하게 분할\n",
    "X_train,  X_test, y_train, y_test = train_test_split(df['Smiles'],\n",
    "                                                     df['IC50_nM'].values.reshape(-1,1),\n",
    "                                                     random_state=42)\n",
    "\n",
    "# y_train과 y_test에 포함된 문자열을 숫자로 변환하기 위한 전처리\n",
    "# 공백 제거\n",
    "y_train = np.char.replace(y_train.astype(str), ' ', '')\n",
    "y_test = np.char.replace(y_test.astype(str), ' ', '')\n",
    "\n",
    "# 부동 소수점으로 변환\n",
    "y_train = y_train.astype(float)\n",
    "y_test = y_test.astype(float)\n",
    "\n",
    "# RobustScaler를 사용하여 데이터 스케일링\n",
    "rbs = RobustScaler(with_centering=True, with_scaling=True, quantile_range=(5.0, 95.0), copy=True)\n",
    "y_train = rbs.fit_transform(y_train)\n",
    "y_test = rbs.transform(y_test)\n",
    "\n",
    "# y_train 값의 히스토그램 출력\n",
    "_ = plt.hist(y_train, bins=25)\n",
    "plt.show()"
   ]
  },
  {
   "cell_type": "code",
   "execution_count": 131,
   "metadata": {},
   "outputs": [
    {
     "data": {
      "image/png": "[encoded data removed]",
      "text/plain": [
       "<Figure size 640x480 with 1 Axes>"
      ]
     },
     "metadata": {},
     "output_type": "display_data"
    }
   ],
   "source": [
    "# 정규화 없이\n",
    "from sklearn.model_selection import train_test_split\n",
    "import matplotlib.pyplot as plt\n",
    "\n",
    "# SMILES 데이터와 IC50_nM 값을 랜덤하게 분할\n",
    "X_train,  X_test, y_train, y_test = train_test_split(df['Smiles'],\n",
    "                                                     df['pIC50'].values.reshape(-1,1),\n",
    "                                                     random_state=42)\n",
    "\n",
    "# y_train 값의 히스토그램 출력\n",
    "_ = plt.hist(y_train, bins=25)\n",
    "plt.show()\n",
    "\n",
    "# 모델 학습에 바로 사용 가능\n"
   ]
  },
  {
   "cell_type": "code",
   "execution_count": 132,
   "metadata": {},
   "outputs": [
    {
     "name": "stdout",
     "output_type": "stream",
     "text": [
      "O/N(4PH[+oB3.\\1758@-s]nSC6F9l#c2=)r\n",
      "150\n"
     ]
    }
   ],
   "source": [
    "import tensorflow.keras.backend as K\n",
    "from SmilesEnumerator import SmilesIterator\n",
    "#The SmilesEnumerator must be fit to the entire dataset, so that all chars are registered\n",
    "sme.fit(df[\"Smiles\"], extra_chars=[\"9\"])\n",
    "sme.leftpad = True\n",
    "print(sme.charset)\n",
    "print(sme.pad)\n",
    "#The dtype is set for the K.floatx(), which is the numerical type configured for Tensorflow or Theano\n",
    "generator = SmilesIterator(X_train, y_train, sme, batch_size=200, dtype=K.floatx())"
   ]
  },
  {
   "cell_type": "code",
   "execution_count": 133,
   "metadata": {},
   "outputs": [
    {
     "name": "stdout",
     "output_type": "stream",
     "text": [
      "(200, 150, 35)\n",
      "(200, 1)\n"
     ]
    }
   ],
   "source": [
    "X,y = generator.next()\n",
    "print(X.shape)\n",
    "print(y.shape)"
   ]
  },
  {
   "cell_type": "code",
   "execution_count": 134,
   "metadata": {},
   "outputs": [],
   "source": [
    "from tensorflow.keras.models import Sequential\n",
    "from tensorflow.keras.layers import Dense, LSTM\n",
    "from tensorflow.keras import regularizers\n",
    "from tensorflow.keras.optimizers import RMSprop"
   ]
  },
  {
   "cell_type": "code",
   "execution_count": 135,
   "metadata": {},
   "outputs": [],
   "source": [
    "# model.compile(loss=\"mse\", optimizer=RMSprop(lr=0.005))\n"
   ]
  },
  {
   "cell_type": "code",
   "execution_count": 136,
   "metadata": {},
   "outputs": [],
   "source": [
    "def pIC50_to_IC50(pic50_values):\n",
    "    \"\"\"Convert pIC50 values to IC50 (nM).\"\"\"\n",
    "    return 10 ** (9 - pic50_values)"
   ]
  },
  {
   "cell_type": "code",
   "execution_count": 137,
   "metadata": {},
   "outputs": [
    {
     "name": "stderr",
     "output_type": "stream",
     "text": [
      "/data/2_data_server/cv-07/anaconda3/envs/koreatech/lib/python3.12/site-packages/keras/src/layers/rnn/rnn.py:204: UserWarning: Do not pass an `input_shape`/`input_dim` argument to a layer. When using Sequential models, prefer using an `Input(shape)` object as the first layer in the model instead.\n",
      "  super().__init__(**kwargs)\n"
     ]
    },
    {
     "data": {
      "text/html": [
       "<pre style=\"white-space:pre;overflow-x:auto;line-height:normal;font-family:Menlo,'DejaVu Sans Mono',consolas,'Courier New',monospace\"><span style=\"font-weight: bold\">Model: \"sequential_3\"</span>\n",
       "</pre>\n"
      ],
      "text/plain": [
       "\u001b[1mModel: \"sequential_3\"\u001b[0m\n"
      ]
     },
     "metadata": {},
     "output_type": "display_data"
    },
    {
     "data": {
      "text/html": [
       "<pre style=\"white-space:pre;overflow-x:auto;line-height:normal;font-family:Menlo,'DejaVu Sans Mono',consolas,'Courier New',monospace\">┏━━━━━━━━━━━━━━━━━━━━━━━━━━━━━━━━━┳━━━━━━━━━━━━━━━━━━━━━━━━┳━━━━━━━━━━━━━━━┓\n",
       "┃<span style=\"font-weight: bold\"> Layer (type)                    </span>┃<span style=\"font-weight: bold\"> Output Shape           </span>┃<span style=\"font-weight: bold\">       Param # </span>┃\n",
       "┡━━━━━━━━━━━━━━━━━━━━━━━━━━━━━━━━━╇━━━━━━━━━━━━━━━━━━━━━━━━╇━━━━━━━━━━━━━━━┩\n",
       "│ lstm_3 (<span style=\"color: #0087ff; text-decoration-color: #0087ff\">LSTM</span>)                   │ (<span style=\"color: #00d7ff; text-decoration-color: #00d7ff\">None</span>, <span style=\"color: #00af00; text-decoration-color: #00af00\">64</span>)             │        <span style=\"color: #00af00; text-decoration-color: #00af00\">25,600</span> │\n",
       "├─────────────────────────────────┼────────────────────────┼───────────────┤\n",
       "│ dense_3 (<span style=\"color: #0087ff; text-decoration-color: #0087ff\">Dense</span>)                 │ (<span style=\"color: #00d7ff; text-decoration-color: #00d7ff\">None</span>, <span style=\"color: #00af00; text-decoration-color: #00af00\">1</span>)              │            <span style=\"color: #00af00; text-decoration-color: #00af00\">65</span> │\n",
       "└─────────────────────────────────┴────────────────────────┴───────────────┘\n",
       "</pre>\n"
      ],
      "text/plain": [
       "┏━━━━━━━━━━━━━━━━━━━━━━━━━━━━━━━━━┳━━━━━━━━━━━━━━━━━━━━━━━━┳━━━━━━━━━━━━━━━┓\n",
       "┃\u001b[1m \u001b[0m\u001b[1mLayer (type)                   \u001b[0m\u001b[1m \u001b[0m┃\u001b[1m \u001b[0m\u001b[1mOutput Shape          \u001b[0m\u001b[1m \u001b[0m┃\u001b[1m \u001b[0m\u001b[1m      Param #\u001b[0m\u001b[1m \u001b[0m┃\n",
       "┡━━━━━━━━━━━━━━━━━━━━━━━━━━━━━━━━━╇━━━━━━━━━━━━━━━━━━━━━━━━╇━━━━━━━━━━━━━━━┩\n",
       "│ lstm_3 (\u001b[38;5;33mLSTM\u001b[0m)                   │ (\u001b[38;5;45mNone\u001b[0m, \u001b[38;5;34m64\u001b[0m)             │        \u001b[38;5;34m25,600\u001b[0m │\n",
       "├─────────────────────────────────┼────────────────────────┼───────────────┤\n",
       "│ dense_3 (\u001b[38;5;33mDense\u001b[0m)                 │ (\u001b[38;5;45mNone\u001b[0m, \u001b[38;5;34m1\u001b[0m)              │            \u001b[38;5;34m65\u001b[0m │\n",
       "└─────────────────────────────────┴────────────────────────┴───────────────┘\n"
      ]
     },
     "metadata": {},
     "output_type": "display_data"
    },
    {
     "data": {
      "text/html": [
       "<pre style=\"white-space:pre;overflow-x:auto;line-height:normal;font-family:Menlo,'DejaVu Sans Mono',consolas,'Courier New',monospace\"><span style=\"font-weight: bold\"> Total params: </span><span style=\"color: #00af00; text-decoration-color: #00af00\">25,665</span> (100.25 KB)\n",
       "</pre>\n"
      ],
      "text/plain": [
       "\u001b[1m Total params: \u001b[0m\u001b[38;5;34m25,665\u001b[0m (100.25 KB)\n"
      ]
     },
     "metadata": {},
     "output_type": "display_data"
    },
    {
     "data": {
      "text/html": [
       "<pre style=\"white-space:pre;overflow-x:auto;line-height:normal;font-family:Menlo,'DejaVu Sans Mono',consolas,'Courier New',monospace\"><span style=\"font-weight: bold\"> Trainable params: </span><span style=\"color: #00af00; text-decoration-color: #00af00\">25,665</span> (100.25 KB)\n",
       "</pre>\n"
      ],
      "text/plain": [
       "\u001b[1m Trainable params: \u001b[0m\u001b[38;5;34m25,665\u001b[0m (100.25 KB)\n"
      ]
     },
     "metadata": {},
     "output_type": "display_data"
    },
    {
     "data": {
      "text/html": [
       "<pre style=\"white-space:pre;overflow-x:auto;line-height:normal;font-family:Menlo,'DejaVu Sans Mono',consolas,'Courier New',monospace\"><span style=\"font-weight: bold\"> Non-trainable params: </span><span style=\"color: #00af00; text-decoration-color: #00af00\">0</span> (0.00 B)\n",
       "</pre>\n"
      ],
      "text/plain": [
       "\u001b[1m Non-trainable params: \u001b[0m\u001b[38;5;34m0\u001b[0m (0.00 B)\n"
      ]
     },
     "metadata": {},
     "output_type": "display_data"
    },
    {
     "name": "stdout",
     "output_type": "stream",
     "text": [
      "None\n"
     ]
    }
   ],
   "source": [
    "input_shape = X.shape[1:]\n",
    "output_shape = 1\n",
    "\n",
    "model = Sequential()\n",
    "model.add(LSTM(64,\n",
    "               input_shape=input_shape,\n",
    "               dropout = 0.19\n",
    "               #unroll= True\n",
    "              ))\n",
    "model.add(Dense(output_shape,\n",
    "                kernel_regularizer=regularizers.l1_l2(0.005,0.01),\n",
    "                activation=\"linear\"))\n",
    "\n",
    "model.compile(loss=\"mse\", optimizer=RMSprop(learning_rate=0.005))\n",
    "print(model.summary())"
   ]
  },
  {
   "cell_type": "code",
   "execution_count": 138,
   "metadata": {},
   "outputs": [],
   "source": [
    "def custom_generator(generator):\n",
    "    while True:\n",
    "        inputs, targets = next(generator)\n",
    "        #print(f\"Inputs shape: {inputs.shape}, Targets shape: {targets.shape}\")\n",
    "        yield inputs, targets"
   ]
  },
  {
   "cell_type": "code",
   "execution_count": 139,
   "metadata": {},
   "outputs": [
    {
     "name": "stdout",
     "output_type": "stream",
     "text": [
      "Epoch 1/25\n",
      "\u001b[1m100/100\u001b[0m \u001b[32m━━━━━━━━━━━━━━━━━━━━\u001b[0m\u001b[37m\u001b[0m \u001b[1m14s\u001b[0m 130ms/step - loss: 6.9615\n",
      "Epoch 2/25\n",
      "\u001b[1m100/100\u001b[0m \u001b[32m━━━━━━━━━━━━━━━━━━━━\u001b[0m\u001b[37m\u001b[0m \u001b[1m13s\u001b[0m 126ms/step - loss: 1.3113\n",
      "Epoch 3/25\n",
      "\u001b[1m100/100\u001b[0m \u001b[32m━━━━━━━━━━━━━━━━━━━━\u001b[0m\u001b[37m\u001b[0m \u001b[1m13s\u001b[0m 126ms/step - loss: 1.2845\n",
      "Epoch 4/25\n",
      "\u001b[1m100/100\u001b[0m \u001b[32m━━━━━━━━━━━━━━━━━━━━\u001b[0m\u001b[37m\u001b[0m \u001b[1m13s\u001b[0m 126ms/step - loss: 1.2786\n",
      "Epoch 5/25\n",
      "\u001b[1m100/100\u001b[0m \u001b[32m━━━━━━━━━━━━━━━━━━━━\u001b[0m\u001b[37m\u001b[0m \u001b[1m13s\u001b[0m 127ms/step - loss: 1.2563\n",
      "Epoch 6/25\n",
      "\u001b[1m100/100\u001b[0m \u001b[32m━━━━━━━━━━━━━━━━━━━━\u001b[0m\u001b[37m\u001b[0m \u001b[1m13s\u001b[0m 125ms/step - loss: 1.2549\n",
      "Epoch 7/25\n",
      "\u001b[1m100/100\u001b[0m \u001b[32m━━━━━━━━━━━━━━━━━━━━\u001b[0m\u001b[37m\u001b[0m \u001b[1m13s\u001b[0m 126ms/step - loss: 1.2448\n",
      "Epoch 8/25\n",
      "\u001b[1m100/100\u001b[0m \u001b[32m━━━━━━━━━━━━━━━━━━━━\u001b[0m\u001b[37m\u001b[0m \u001b[1m13s\u001b[0m 127ms/step - loss: 1.2050\n",
      "Epoch 9/25\n",
      "\u001b[1m100/100\u001b[0m \u001b[32m━━━━━━━━━━━━━━━━━━━━\u001b[0m\u001b[37m\u001b[0m \u001b[1m13s\u001b[0m 127ms/step - loss: 1.0732\n",
      "Epoch 10/25\n",
      "\u001b[1m100/100\u001b[0m \u001b[32m━━━━━━━━━━━━━━━━━━━━\u001b[0m\u001b[37m\u001b[0m \u001b[1m13s\u001b[0m 127ms/step - loss: 1.0693\n",
      "Epoch 11/25\n",
      "\u001b[1m100/100\u001b[0m \u001b[32m━━━━━━━━━━━━━━━━━━━━\u001b[0m\u001b[37m\u001b[0m \u001b[1m13s\u001b[0m 126ms/step - loss: 0.9745\n",
      "Epoch 12/25\n",
      "\u001b[1m100/100\u001b[0m \u001b[32m━━━━━━━━━━━━━━━━━━━━\u001b[0m\u001b[37m\u001b[0m \u001b[1m13s\u001b[0m 127ms/step - loss: 1.0558\n",
      "Epoch 13/25\n",
      "\u001b[1m100/100\u001b[0m \u001b[32m━━━━━━━━━━━━━━━━━━━━\u001b[0m\u001b[37m\u001b[0m \u001b[1m13s\u001b[0m 128ms/step - loss: 0.8954\n",
      "Epoch 14/25\n",
      "\u001b[1m100/100\u001b[0m \u001b[32m━━━━━━━━━━━━━━━━━━━━\u001b[0m\u001b[37m\u001b[0m \u001b[1m13s\u001b[0m 127ms/step - loss: 0.9096\n",
      "Epoch 15/25\n",
      "\u001b[1m100/100\u001b[0m \u001b[32m━━━━━━━━━━━━━━━━━━━━\u001b[0m\u001b[37m\u001b[0m \u001b[1m13s\u001b[0m 129ms/step - loss: 0.8765\n",
      "Epoch 16/25\n",
      "\u001b[1m100/100\u001b[0m \u001b[32m━━━━━━━━━━━━━━━━━━━━\u001b[0m\u001b[37m\u001b[0m \u001b[1m13s\u001b[0m 127ms/step - loss: 0.8347\n",
      "Epoch 17/25\n",
      "\u001b[1m100/100\u001b[0m \u001b[32m━━━━━━━━━━━━━━━━━━━━\u001b[0m\u001b[37m\u001b[0m \u001b[1m13s\u001b[0m 127ms/step - loss: 0.8079\n",
      "Epoch 18/25\n",
      "\u001b[1m100/100\u001b[0m \u001b[32m━━━━━━━━━━━━━━━━━━━━\u001b[0m\u001b[37m\u001b[0m \u001b[1m13s\u001b[0m 126ms/step - loss: 0.8056\n",
      "Epoch 19/25\n",
      "\u001b[1m100/100\u001b[0m \u001b[32m━━━━━━━━━━━━━━━━━━━━\u001b[0m\u001b[37m\u001b[0m \u001b[1m13s\u001b[0m 127ms/step - loss: 0.8187\n",
      "Epoch 20/25\n",
      "\u001b[1m100/100\u001b[0m \u001b[32m━━━━━━━━━━━━━━━━━━━━\u001b[0m\u001b[37m\u001b[0m \u001b[1m13s\u001b[0m 126ms/step - loss: 0.7664\n",
      "Epoch 21/25\n",
      "\u001b[1m100/100\u001b[0m \u001b[32m━━━━━━━━━━━━━━━━━━━━\u001b[0m\u001b[37m\u001b[0m \u001b[1m13s\u001b[0m 126ms/step - loss: 0.7673\n",
      "Epoch 22/25\n",
      "\u001b[1m100/100\u001b[0m \u001b[32m━━━━━━━━━━━━━━━━━━━━\u001b[0m\u001b[37m\u001b[0m \u001b[1m13s\u001b[0m 125ms/step - loss: 0.7523\n",
      "Epoch 23/25\n",
      "\u001b[1m100/100\u001b[0m \u001b[32m━━━━━━━━━━━━━━━━━━━━\u001b[0m\u001b[37m\u001b[0m \u001b[1m13s\u001b[0m 127ms/step - loss: 0.7420\n",
      "Epoch 24/25\n",
      "\u001b[1m100/100\u001b[0m \u001b[32m━━━━━━━━━━━━━━━━━━━━\u001b[0m\u001b[37m\u001b[0m \u001b[1m13s\u001b[0m 127ms/step - loss: 0.7309\n",
      "Epoch 25/25\n",
      "\u001b[1m100/100\u001b[0m \u001b[32m━━━━━━━━━━━━━━━━━━━━\u001b[0m\u001b[37m\u001b[0m \u001b[1m13s\u001b[0m 127ms/step - loss: 0.7523\n"
     ]
    },
    {
     "data": {
      "text/plain": [
       "<keras.src.callbacks.history.History at 0x7f30905bbc80>"
      ]
     },
     "execution_count": 139,
     "metadata": {},
     "output_type": "execute_result"
    }
   ],
   "source": [
    "model.fit(custom_generator(generator), \n",
    "          steps_per_epoch=100, \n",
    "          epochs=25)\n"
   ]
  },
  {
   "cell_type": "code",
   "execution_count": 140,
   "metadata": {},
   "outputs": [
    {
     "name": "stdout",
     "output_type": "stream",
     "text": [
      "\u001b[1m1/2\u001b[0m \u001b[32m━━━━━━━━━━\u001b[0m\u001b[37m━━━━━━━━━━\u001b[0m \u001b[1m0s\u001b[0m 132ms/stepWARNING:tensorflow:5 out of the last 77 calls to <function TensorFlowTrainer.make_predict_function.<locals>.one_step_on_data_distributed at 0x7f30906f7560> triggered tf.function retracing. Tracing is expensive and the excessive number of tracings could be due to (1) creating @tf.function repeatedly in a loop, (2) passing tensors with different shapes, (3) passing Python objects instead of tensors. For (1), please define your @tf.function outside of the loop. For (2), @tf.function has reduce_retracing=True option that can avoid unnecessary retracing. For (3), please refer to https://www.tensorflow.org/guide/function#controlling_retracing and https://www.tensorflow.org/api_docs/python/tf/function for  more details.\n",
      "\u001b[1m2/2\u001b[0m \u001b[32m━━━━━━━━━━━━━━━━━━━━\u001b[0m\u001b[37m\u001b[0m \u001b[1m0s\u001b[0m 201ms/step\n",
      "0.10106625\n",
      "[[-0.99315498]\n",
      " [-0.44315498]\n",
      " [-2.07315498]\n",
      " [-0.91315498]\n",
      " [ 1.30684502]\n",
      " [ 1.17684502]\n",
      " [-0.59315498]\n",
      " [ 1.01684502]\n",
      " [ 0.37684502]\n",
      " [ 1.30684502]\n",
      " [ 1.25684502]\n",
      " [-0.98315498]\n",
      " [-0.49315498]\n",
      " [ 0.73684502]\n",
      " [-1.83315498]\n",
      " [-0.31315498]\n",
      " [ 1.73684502]\n",
      " [ 0.96684502]\n",
      " [ 1.17684502]\n",
      " [ 1.53684502]\n",
      " [-1.41315498]\n",
      " [ 1.62684502]\n",
      " [ 0.43684502]\n",
      " [ 0.88684502]\n",
      " [ 0.53684502]\n",
      " [ 0.45684502]\n",
      " [ 1.39684502]\n",
      " [ 1.25684502]\n",
      " [-0.61315498]\n",
      " [ 1.73684502]\n",
      " [-1.60315498]\n",
      " [ 0.71684502]\n",
      " [-1.32315498]\n",
      " [-1.03315498]\n",
      " [ 0.63684502]\n",
      " [ 0.41684502]\n",
      " [ 1.58684502]\n",
      " [-0.51315498]\n",
      " [-1.56315498]\n",
      " [ 1.04684502]\n",
      " [-2.03315498]\n",
      " [-0.26315498]\n",
      " [ 1.73684502]\n",
      " [-1.95315498]\n",
      " [ 1.01684502]\n",
      " [ 0.46684502]\n",
      " [ 0.43684502]\n",
      " [ 0.39684502]\n",
      " [-0.37315498]\n",
      " [-1.23315498]\n",
      " [ 0.43684502]\n",
      " [-0.84315498]\n",
      " [-0.00315498]\n",
      " [-1.26315498]\n",
      " [ 1.43684502]\n",
      " [ 1.13684502]\n",
      " [ 1.20684502]\n",
      " [ 0.98684502]\n",
      " [ 1.07684502]\n",
      " [-0.37315498]\n",
      " [-2.34315498]\n",
      " [ 0.65684502]\n",
      " [ 0.65684502]\n",
      " [ 1.06684502]\n",
      " [ 0.21684502]\n",
      " [ 0.69684502]\n",
      " [ 1.25684502]\n",
      " [ 0.50684502]\n",
      " [-0.94315498]\n",
      " [ 0.62684502]\n",
      " [ 0.23684502]\n",
      " [-0.29315498]\n",
      " [ 0.77684502]\n",
      " [ 1.55684502]\n",
      " [-0.01315498]\n",
      " [ 0.60684502]\n",
      " [-1.49315498]\n",
      " [ 0.73684502]\n",
      " [ 1.39684502]\n",
      " [-1.13315498]\n",
      " [-0.40315498]\n",
      " [-0.67315498]\n",
      " [ 0.95684502]\n",
      " [-0.01315498]\n",
      " [ 0.62684502]\n",
      " [-1.02315498]\n",
      " [ 1.25684502]\n",
      " [ 1.05684502]\n",
      " [ 0.88684502]\n",
      " [ 0.75684502]\n",
      " [-1.30315498]\n",
      " [-0.41315498]\n",
      " [ 0.51684502]\n",
      " [ 0.65684502]\n",
      " [ 1.73684502]\n",
      " [ 0.50684502]\n",
      " [-0.26315498]\n",
      " [-2.04315498]\n",
      " [-0.57315498]\n",
      " [ 2.15684502]\n",
      " [-0.74315498]\n",
      " [ 1.01684502]\n",
      " [ 0.66684502]\n",
      " [-1.02315498]\n",
      " [ 0.03684502]\n",
      " [-1.86315498]\n",
      " [ 1.30684502]\n",
      " [-0.11315498]\n",
      " [ 1.55684502]\n",
      " [ 1.25684502]\n",
      " [-0.12315498]\n",
      " [ 1.22684502]\n",
      " [-0.91315498]\n",
      " [-1.09315498]\n",
      " [ 1.02684502]\n",
      " [ 0.33684502]\n",
      " [ 0.58684502]\n",
      " [-0.42315498]\n",
      " [ 1.13684502]\n",
      " [-2.08315498]\n",
      " [ 0.58684502]\n",
      " [ 0.94684502]\n",
      " [-1.44315498]\n",
      " [-1.97315498]\n",
      " [-1.26315498]\n",
      " [ 1.02684502]\n",
      " [-0.29315498]\n",
      " [ 0.65684502]\n",
      " [-1.16315498]\n",
      " [ 0.60684502]\n",
      " [-1.62315498]\n",
      " [ 1.12684502]\n",
      " [-2.17315498]\n",
      " [ 1.58684502]\n",
      " [ 1.33684502]\n",
      " [ 1.21684502]\n",
      " [-0.56315498]\n",
      " [ 1.45684502]\n",
      " [-2.07315498]\n",
      " [ 1.43684502]\n",
      " [ 1.37684502]\n",
      " [ 1.32684502]\n",
      " [ 0.60684502]\n",
      " [ 0.13684502]\n",
      " [ 1.13684502]\n",
      " [ 0.06684502]\n",
      " [-0.41315498]\n",
      " [ 1.30684502]\n",
      " [ 1.41684502]\n",
      " [-0.14315498]\n",
      " [ 1.32684502]\n",
      " [-1.49315498]\n",
      " [ 1.37684502]\n",
      " [ 0.79684502]\n",
      " [-2.42315498]\n",
      " [-0.05315498]\n",
      " [ 0.59684502]\n",
      " [ 0.95684502]\n",
      " [-0.62315498]\n",
      " [ 1.41684502]\n",
      " [-1.12315498]\n",
      " [-0.35315498]\n",
      " [-0.85315498]\n",
      " [ 0.98684502]\n",
      " [ 0.39684502]\n",
      " [ 0.84684502]\n",
      " [ 0.88684502]\n",
      " [-0.31315498]\n",
      " [-1.16315498]\n",
      " [ 0.55684502]\n",
      " [ 0.90684502]\n",
      " [ 1.05684502]\n",
      " [ 2.25684502]\n",
      " [ 1.28684502]\n",
      " [ 1.73684502]\n",
      " [-2.65315498]\n",
      " [ 0.39684502]\n",
      " [ 0.37684502]\n",
      " [ 0.35684502]\n",
      " [-0.83315498]\n",
      " [ 1.43684502]\n",
      " [ 0.83684502]\n",
      " [ 0.11684502]\n",
      " [ 1.32684502]\n",
      " [-0.86315498]\n",
      " [-1.98315498]\n",
      " [ 1.62684502]\n",
      " [ 0.06684502]\n",
      " [-1.95315498]\n",
      " [ 0.78684502]\n",
      " [-0.10315498]\n",
      " [-1.84315498]\n",
      " [-0.54315498]\n",
      " [ 0.94684502]\n",
      " [ 1.41684502]\n",
      " [ 0.88684502]\n",
      " [ 0.73684502]\n",
      " [ 1.03684502]\n",
      " [ 0.58684502]\n",
      " [ 1.55684502]\n",
      " [ 0.90684502]\n",
      " [ 0.35684502]\n",
      " [-0.61315498]\n",
      " [ 0.97684502]\n",
      " [ 1.14684502]\n",
      " [ 0.27684502]\n",
      " [ 1.17684502]\n",
      " [ 1.25684502]\n",
      " [ 0.85684502]\n",
      " [ 1.37684502]\n",
      " [ 1.45684502]\n",
      " [-0.31315498]\n",
      " [ 0.01684502]\n",
      " [ 0.03684502]\n",
      " [ 0.85684502]\n",
      " [-1.01315498]\n",
      " [ 1.73684502]\n",
      " [ 0.50684502]\n",
      " [ 0.79684502]\n",
      " [ 2.06684502]\n",
      " [ 0.62684502]\n",
      " [-0.90315498]\n",
      " [-1.66315498]\n",
      " [ 1.07684502]\n",
      " [ 1.55684502]\n",
      " [-0.19315498]\n",
      " [ 1.25684502]\n",
      " [ 1.47684502]\n",
      " [ 1.43684502]\n",
      " [ 1.27684502]\n",
      " [ 0.91684502]\n",
      " [-0.72315498]\n",
      " [-0.44315498]\n",
      " [ 1.83684502]\n",
      " [-1.44315498]\n",
      " [-1.26315498]\n",
      " [ 0.98684502]\n",
      " [ 0.78684502]\n",
      " [-1.66315498]\n",
      " [-1.13315498]\n",
      " [-0.26315498]\n",
      " [-0.31315498]\n",
      " [-0.62315498]\n",
      " [ 1.19684502]\n",
      " [-2.17315498]\n",
      " [-0.26315498]\n",
      " [ 1.43684502]\n",
      " [-0.89315498]\n",
      " [-1.91315498]\n",
      " [ 0.43684502]\n",
      " [ 0.83684502]\n",
      " [ 1.24684502]\n",
      " [ 0.75684502]\n",
      " [-2.14315498]\n",
      " [ 1.43684502]\n",
      " [ 1.28684502]\n",
      " [-1.74315498]\n",
      " [ 1.73684502]\n",
      " [ 1.35684502]\n",
      " [ 1.19684502]\n",
      " [ 1.73684502]\n",
      " [ 1.47684502]\n",
      " [ 0.32684502]\n",
      " [-0.30315498]\n",
      " [ 1.01684502]\n",
      " [ 0.15684502]\n",
      " [ 1.03684502]\n",
      " [ 1.08684502]\n",
      " [ 1.88684502]\n",
      " [ 0.63684502]\n",
      " [ 0.53684502]\n",
      " [ 0.52684502]\n",
      " [ 1.73684502]\n",
      " [-1.86315498]\n",
      " [-1.47315498]\n",
      " [ 1.03684502]\n",
      " [ 1.17684502]\n",
      " [ 1.04684502]\n",
      " [-2.18315498]\n",
      " [-0.24315498]\n",
      " [ 2.13684502]\n",
      " [ 0.43684502]\n",
      " [-0.24315498]\n",
      " [-0.44315498]\n",
      " [ 0.33684502]\n",
      " [ 1.13684502]\n",
      " [ 0.62684502]\n",
      " [-0.74315498]\n",
      " [-1.34315498]\n",
      " [ 1.13684502]\n",
      " [-0.83315498]\n",
      " [ 1.88684502]\n",
      " [ 0.49684502]\n",
      " [ 1.47684502]\n",
      " [ 1.06684502]\n",
      " [-0.97315498]\n",
      " [-1.89315498]\n",
      " [ 1.03684502]\n",
      " [ 0.95684502]\n",
      " [ 0.47684502]\n",
      " [ 1.25684502]\n",
      " [ 1.04684502]\n",
      " [ 0.69684502]\n",
      " [-0.13315498]\n",
      " [ 0.98684502]\n",
      " [ 0.45684502]\n",
      " [ 1.45684502]\n",
      " [ 0.65684502]\n",
      " [ 0.03684502]\n",
      " [ 1.13684502]\n",
      " [ 0.50684502]\n",
      " [-0.95315498]\n",
      " [-1.35315498]\n",
      " [-0.87315498]\n",
      " [-1.93315498]\n",
      " [-1.93315498]\n",
      " [-0.25315498]\n",
      " [ 0.62684502]\n",
      " [ 1.13684502]\n",
      " [ 0.53684502]\n",
      " [-0.90315498]\n",
      " [ 1.55684502]\n",
      " [ 1.09684502]\n",
      " [-1.56315498]\n",
      " [ 1.10684502]\n",
      " [ 0.55684502]\n",
      " [ 1.25684502]\n",
      " [ 1.17684502]\n",
      " [ 1.25684502]\n",
      " [ 1.43684502]\n",
      " [ 1.05684502]\n",
      " [-0.05315498]\n",
      " [-1.12315498]\n",
      " [ 1.28684502]\n",
      " [ 0.19684502]\n",
      " [ 1.35684502]\n",
      " [ 0.83684502]\n",
      " [ 1.73684502]\n",
      " [ 0.63684502]\n",
      " [ 0.11684502]\n",
      " [-0.95315498]\n",
      " [ 1.07684502]\n",
      " [ 1.17684502]\n",
      " [-0.36315498]\n",
      " [ 1.19684502]\n",
      " [ 0.54684502]\n",
      " [-0.56315498]\n",
      " [ 1.22684502]\n",
      " [-1.02315498]\n",
      " [ 0.88684502]\n",
      " [ 0.58684502]\n",
      " [-0.02315498]\n",
      " [-0.67315498]\n",
      " [-0.81315498]\n",
      " [-1.00315498]\n",
      " [-0.21315498]\n",
      " [-0.75315498]\n",
      " [ 1.07684502]\n",
      " [ 0.94684502]\n",
      " [ 0.97684502]\n",
      " [ 0.69684502]\n",
      " [ 1.35684502]\n",
      " [-1.37315498]\n",
      " [ 1.39684502]\n",
      " [-0.56315498]\n",
      " [-1.30315498]\n",
      " [-2.12315498]\n",
      " [ 0.43684502]\n",
      " [ 1.08684502]\n",
      " [ 1.25684502]\n",
      " [ 0.55684502]\n",
      " [ 0.61684502]\n",
      " [-1.49315498]\n",
      " [ 1.15684502]\n",
      " [-0.81315498]\n",
      " [ 1.73684502]\n",
      " [-1.32315498]\n",
      " [ 1.35684502]\n",
      " [ 1.78684502]\n",
      " [-0.59315498]\n",
      " [ 1.13684502]\n",
      " [-0.39315498]\n",
      " [ 1.27684502]\n",
      " [-0.23315498]\n",
      " [-1.20315498]\n",
      " [ 0.97684502]\n",
      " [ 1.19684502]\n",
      " [-2.10315498]\n",
      " [-1.06315498]\n",
      " [-0.95315498]\n",
      " [ 0.24684502]\n",
      " [ 1.06684502]\n",
      " [-1.07315498]\n",
      " [-0.46315498]\n",
      " [ 0.61684502]\n",
      " [-2.18315498]\n",
      " [-1.95315498]\n",
      " [-1.34315498]\n",
      " [ 1.21684502]\n",
      " [ 0.09684502]\n",
      " [ 1.43684502]\n",
      " [-1.11315498]\n",
      " [-1.88315498]\n",
      " [ 1.01684502]\n",
      " [ 0.81684502]\n",
      " [ 0.63684502]\n",
      " [-0.44315498]\n",
      " [ 1.50684502]\n",
      " [ 2.84684502]\n",
      " [ 0.48684502]\n",
      " [-1.64315498]\n",
      " [ 0.31684502]\n",
      " [ 1.25684502]\n",
      " [ 1.01684502]\n",
      " [-1.18315498]\n",
      " [ 0.30684502]\n",
      " [ 1.12684502]\n",
      " [ 0.53684502]\n",
      " [ 0.62684502]\n",
      " [-1.05315498]\n",
      " [ 1.35684502]\n",
      " [ 1.45684502]\n",
      " [ 0.65684502]\n",
      " [ 1.39684502]\n",
      " [ 0.75684502]\n",
      " [ 0.83684502]\n",
      " [-0.37315498]\n",
      " [ 0.83684502]\n",
      " [ 0.69684502]\n",
      " [-0.85315498]\n",
      " [-1.47315498]\n",
      " [ 1.19684502]\n",
      " [ 1.33684502]\n",
      " [ 0.89684502]\n",
      " [-0.54315498]\n",
      " [-0.48315498]\n",
      " [ 1.37684502]\n",
      " [ 1.20684502]\n",
      " [ 1.02684502]\n",
      " [-0.09315498]\n",
      " [-0.49315498]\n",
      " [ 1.30684502]\n",
      " [ 1.22684502]\n",
      " [ 1.13684502]\n",
      " [ 1.19684502]\n",
      " [ 1.12684502]\n",
      " [ 0.58684502]\n",
      " [ 0.84684502]\n",
      " [-0.23315498]\n",
      " [ 1.20684502]\n",
      " [-0.49315498]\n",
      " [ 1.01684502]\n",
      " [ 0.03684502]\n",
      " [-2.01315498]\n",
      " [ 1.06684502]\n",
      " [ 0.98684502]\n",
      " [ 1.45684502]\n",
      " [ 0.81684502]\n",
      " [ 1.47684502]\n",
      " [ 1.32684502]\n",
      " [ 0.97684502]\n",
      " [ 0.53684502]\n",
      " [ 1.32684502]\n",
      " [-1.67315498]\n",
      " [ 0.60684502]\n",
      " [-0.98315498]\n",
      " [-1.61315498]\n",
      " [-1.93315498]\n",
      " [ 1.35684502]\n",
      " [ 0.33684502]\n",
      " [-0.53315498]\n",
      " [-0.64315498]\n",
      " [ 1.19684502]\n",
      " [ 1.25684502]\n",
      " [-1.56315498]\n",
      " [-0.75315498]\n",
      " [ 0.89684502]\n",
      " [-0.56315498]\n",
      " [-0.92315498]\n",
      " [ 1.45684502]\n",
      " [ 1.03684502]\n",
      " [-0.10315498]\n",
      " [ 0.76684502]\n",
      " [ 0.00684502]\n",
      " [ 1.25684502]\n",
      " [-1.49315498]\n",
      " [-1.46315498]\n",
      " [-1.61315498]]\n"
     ]
    },
    {
     "data": {
      "image/png": "[encoded data removed]",
      "text/plain": [
       "<Figure size 640x480 with 1 Axes>"
      ]
     },
     "metadata": {},
     "output_type": "display_data"
    }
   ],
   "source": [
    "#Enumeration of the SMILES before sampling stabilises the result\n",
    "smiles_repeat = np.array([X_test.iloc[i:i+1].values[0]]*50)\n",
    "y_true = y_test\n",
    "y_pred = model.predict(sme.transform(smiles_repeat))\n",
    "print(y_pred.std())\n",
    "print(y_true - np.median(y_pred))\n",
    "_ = plt.hist(y_pred)"
   ]
  },
  {
   "cell_type": "code",
   "execution_count": 59,
   "metadata": {},
   "outputs": [
    {
     "name": "stdout",
     "output_type": "stream",
     "text": [
      "\u001b[1m46/46\u001b[0m \u001b[32m━━━━━━━━━━━━━━━━━━━━\u001b[0m\u001b[37m\u001b[0m \u001b[1m1s\u001b[0m 19ms/step\n",
      "\u001b[1m16/16\u001b[0m \u001b[32m━━━━━━━━━━━━━━━━━━━━\u001b[0m\u001b[37m\u001b[0m \u001b[1m0s\u001b[0m 19ms/step\n"
     ]
    },
    {
     "data": {
      "text/plain": [
       "<matplotlib.legend.Legend at 0x7f329c154b00>"
      ]
     },
     "execution_count": 59,
     "metadata": {},
     "output_type": "execute_result"
    },
    {
     "data": {
      "image/png": "[encoded data removed]",
      "text/plain": [
       "<Figure size 640x480 with 1 Axes>"
      ]
     },
     "metadata": {},
     "output_type": "display_data"
    }
   ],
   "source": [
    "y_pred_train = model.predict(sme.transform(X_train))\n",
    "y_pred_test = model.predict(sme.transform(X_test))\n",
    "plt.scatter(y_train, y_pred_train, label=\"Train\")\n",
    "plt.scatter(y_test, y_pred_test, label=\"Test\")\n",
    "plt.legend()"
   ]
  },
  {
   "cell_type": "code",
   "execution_count": 149,
   "metadata": {},
   "outputs": [],
   "source": [
    "df_test = pd.read_csv('./data/test.csv')"
   ]
  },
  {
   "cell_type": "code",
   "execution_count": 154,
   "metadata": {},
   "outputs": [],
   "source": [
    "pred = df_test[\"Smiles\"]"
   ]
  },
  {
   "cell_type": "code",
   "execution_count": 155,
   "metadata": {},
   "outputs": [],
   "source": [
    "sample = pd.read_csv('./data/sample_submission.csv')"
   ]
  },
  {
   "cell_type": "code",
   "execution_count": 156,
   "metadata": {},
   "outputs": [
    {
     "name": "stdout",
     "output_type": "stream",
     "text": [
      "\u001b[1m4/4\u001b[0m \u001b[32m━━━━━━━━━━━━━━━━━━━━\u001b[0m\u001b[37m\u001b[0m \u001b[1m0s\u001b[0m 19ms/step\n"
     ]
    }
   ],
   "source": [
    "pred_ = model.predict(sme.transform(pred))"
   ]
  },
  {
   "cell_type": "code",
   "execution_count": 145,
   "metadata": {},
   "outputs": [],
   "source": [
    "def pIC50_to_IC50_nM(pIC50_values):\n",
    "    return 10**(9 - pIC50_values)"
   ]
  },
  {
   "cell_type": "code",
   "execution_count": 157,
   "metadata": {},
   "outputs": [],
   "source": [
    "pred_value = pIC50_to_IC50(pred_)"
   ]
  },
  {
   "cell_type": "code",
   "execution_count": 159,
   "metadata": {},
   "outputs": [],
   "source": [
    "sample['IC50_nM'] = pred_value"
   ]
  },
  {
   "cell_type": "code",
   "execution_count": 160,
   "metadata": {},
   "outputs": [],
   "source": [
    "sample.to_csv('./sample.csv', index=False)"
   ]
  },
  {
   "cell_type": "code",
   "execution_count": 62,
   "metadata": {},
   "outputs": [],
   "source": []
  },
  {
   "cell_type": "code",
   "execution_count": 50,
   "metadata": {},
   "outputs": [],
   "source": [
    "#sample.to_csv('./sample.csv', index=False)"
   ]
  },
  {
   "cell_type": "code",
   "execution_count": 64,
   "metadata": {},
   "outputs": [
    {
     "data": {
      "text/html": [
       "<div>\n",
       "<style scoped>\n",
       "    .dataframe tbody tr th:only-of-type {\n",
       "        vertical-align: middle;\n",
       "    }\n",
       "\n",
       "    .dataframe tbody tr th {\n",
       "        vertical-align: top;\n",
       "    }\n",
       "\n",
       "    .dataframe thead th {\n",
       "        text-align: right;\n",
       "    }\n",
       "</style>\n",
       "<table border=\"1\" class=\"dataframe\">\n",
       "  <thead>\n",
       "    <tr style=\"text-align: right;\">\n",
       "      <th></th>\n",
       "      <th>ID</th>\n",
       "      <th>IC50_nM</th>\n",
       "    </tr>\n",
       "  </thead>\n",
       "  <tbody>\n",
       "    <tr>\n",
       "      <th>0</th>\n",
       "      <td>TEST_000</td>\n",
       "      <td>-0.248934</td>\n",
       "    </tr>\n",
       "    <tr>\n",
       "      <th>1</th>\n",
       "      <td>TEST_001</td>\n",
       "      <td>-0.075912</td>\n",
       "    </tr>\n",
       "    <tr>\n",
       "      <th>2</th>\n",
       "      <td>TEST_002</td>\n",
       "      <td>-0.146543</td>\n",
       "    </tr>\n",
       "    <tr>\n",
       "      <th>3</th>\n",
       "      <td>TEST_003</td>\n",
       "      <td>0.076595</td>\n",
       "    </tr>\n",
       "    <tr>\n",
       "      <th>4</th>\n",
       "      <td>TEST_004</td>\n",
       "      <td>-0.113854</td>\n",
       "    </tr>\n",
       "  </tbody>\n",
       "</table>\n",
       "</div>"
      ],
      "text/plain": [
       "         ID   IC50_nM\n",
       "0  TEST_000 -0.248934\n",
       "1  TEST_001 -0.075912\n",
       "2  TEST_002 -0.146543\n",
       "3  TEST_003  0.076595\n",
       "4  TEST_004 -0.113854"
      ]
     },
     "execution_count": 64,
     "metadata": {},
     "output_type": "execute_result"
    }
   ],
   "source": [
    "sample.head()"
   ]
  },
  {
   "cell_type": "code",
   "execution_count": 148,
   "metadata": {},
   "outputs": [
    {
     "name": "stdout",
     "output_type": "stream",
     "text": [
      "\u001b[1m4/4\u001b[0m \u001b[32m━━━━━━━━━━━━━━━━━━━━\u001b[0m\u001b[37m\u001b[0m \u001b[1m0s\u001b[0m 19ms/step\n"
     ]
    }
   ],
   "source": [
    "result = model.predict(sme.transform(pred))"
   ]
  },
  {
   "cell_type": "code",
   "execution_count": 52,
   "metadata": {},
   "outputs": [],
   "source": [
    "def pIC50_to_IC50(pic50_values):\n",
    "    \"\"\"Convert pIC50 values to IC50 (nM).\"\"\"\n",
    "    return 10 ** (9 - pic50_values)"
   ]
  },
  {
   "cell_type": "code",
   "execution_count": 53,
   "metadata": {},
   "outputs": [],
   "source": [
    "result_ = pIC50_to_IC50(result)"
   ]
  },
  {
   "cell_type": "code",
   "execution_count": 65,
   "metadata": {},
   "outputs": [],
   "source": [
    "sample['IC50_nM'] = result"
   ]
  },
  {
   "cell_type": "code",
   "execution_count": 66,
   "metadata": {},
   "outputs": [],
   "source": [
    "sample.to_csv('./sample.csv', index=False)"
   ]
  },
  {
   "cell_type": "code",
   "execution_count": 57,
   "metadata": {},
   "outputs": [
    {
     "data": {
      "text/html": [
       "<div>\n",
       "<style scoped>\n",
       "    .dataframe tbody tr th:only-of-type {\n",
       "        vertical-align: middle;\n",
       "    }\n",
       "\n",
       "    .dataframe tbody tr th {\n",
       "        vertical-align: top;\n",
       "    }\n",
       "\n",
       "    .dataframe thead th {\n",
       "        text-align: right;\n",
       "    }\n",
       "</style>\n",
       "<table border=\"1\" class=\"dataframe\">\n",
       "  <thead>\n",
       "    <tr style=\"text-align: right;\">\n",
       "      <th></th>\n",
       "      <th>ID</th>\n",
       "      <th>IC50_nM</th>\n",
       "    </tr>\n",
       "  </thead>\n",
       "  <tbody>\n",
       "    <tr>\n",
       "      <th>0</th>\n",
       "      <td>TEST_000</td>\n",
       "      <td>1.872027e+09</td>\n",
       "    </tr>\n",
       "    <tr>\n",
       "      <th>1</th>\n",
       "      <td>TEST_001</td>\n",
       "      <td>9.414966e+08</td>\n",
       "    </tr>\n",
       "    <tr>\n",
       "      <th>2</th>\n",
       "      <td>TEST_002</td>\n",
       "      <td>1.009064e+09</td>\n",
       "    </tr>\n",
       "    <tr>\n",
       "      <th>3</th>\n",
       "      <td>TEST_003</td>\n",
       "      <td>1.028012e+09</td>\n",
       "    </tr>\n",
       "    <tr>\n",
       "      <th>4</th>\n",
       "      <td>TEST_004</td>\n",
       "      <td>9.983544e+08</td>\n",
       "    </tr>\n",
       "  </tbody>\n",
       "</table>\n",
       "</div>"
      ],
      "text/plain": [
       "         ID       IC50_nM\n",
       "0  TEST_000  1.872027e+09\n",
       "1  TEST_001  9.414966e+08\n",
       "2  TEST_002  1.009064e+09\n",
       "3  TEST_003  1.028012e+09\n",
       "4  TEST_004  9.983544e+08"
      ]
     },
     "execution_count": 57,
     "metadata": {},
     "output_type": "execute_result"
    }
   ],
   "source": [
    "sample.head()"
   ]
  }
 ],
 "metadata": {
  "kernelspec": {
   "display_name": "koreatech",
   "language": "python",
   "name": "python3"
  },
  "language_info": {
   "codemirror_mode": {
    "name": "ipython",
    "version": 3
   },
   "file_extension": ".py",
   "mimetype": "text/x-python",
   "name": "python",
   "nbconvert_exporter": "python",
   "pygments_lexer": "ipython3",
   "version": "3.12.2"
  }
 },
 "nbformat": 4,
 "nbformat_minor": 2
}
